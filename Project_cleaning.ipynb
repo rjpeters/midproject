{
 "cells": [
  {
   "cell_type": "markdown",
   "id": "67d933ad",
   "metadata": {},
   "source": [
    "# Getting and cleaning data"
   ]
  },
  {
   "cell_type": "raw",
   "id": "b94835f8",
   "metadata": {},
   "source": [
    "https://opendata.cbs.nl/statline/portal.html?_la=nl&_catalog=CBS&tableId=83538NED&_theme=355"
   ]
  },
  {
   "cell_type": "markdown",
   "id": "8ddeb834",
   "metadata": {},
   "source": [
    "This database shows the number of students enrolled in Dutch higher education institutions, for the years 2010 to 2020"
   ]
  },
  {
   "cell_type": "markdown",
   "id": "f5650a65",
   "metadata": {},
   "source": [
    "Three questions I am interested in:"
   ]
  },
  {
   "cell_type": "markdown",
   "id": "9d91243c",
   "metadata": {},
   "source": [
    "- (How) did the transfer to a new funding model change the subject people decided to study?\n",
    "- (How) do changing real estate prices change the city people decide to study in?\n",
    "- (How) do gender ratios change over time in different areas of study (e.g. stem, humanities)?"
   ]
  },
  {
   "cell_type": "code",
   "execution_count": 1,
   "id": "3e98463b",
   "metadata": {},
   "outputs": [],
   "source": [
    "import pandas as pd\n",
    "import numpy as np"
   ]
  },
  {
   "cell_type": "code",
   "execution_count": 2,
   "id": "21bf70e6",
   "metadata": {},
   "outputs": [],
   "source": [
    "df = pd.read_csv(\"data_highered_raw.csv\", sep = \";\", low_memory=False)"
   ]
  },
  {
   "cell_type": "code",
   "execution_count": null,
   "id": "78f863d3",
   "metadata": {},
   "outputs": [],
   "source": [
    "df.shape"
   ]
  },
  {
   "cell_type": "code",
   "execution_count": null,
   "id": "c3812fd3",
   "metadata": {},
   "outputs": [],
   "source": [
    "df.head()"
   ]
  },
  {
   "cell_type": "code",
   "execution_count": null,
   "id": "f2668cad",
   "metadata": {},
   "outputs": [],
   "source": [
    "df.isna().sum()"
   ]
  },
  {
   "cell_type": "code",
   "execution_count": null,
   "id": "bd112d71",
   "metadata": {},
   "outputs": [],
   "source": [
    "df.info()"
   ]
  },
  {
   "cell_type": "markdown",
   "id": "32e17c0f",
   "metadata": {},
   "source": [
    "# Data cleaning: substituting meaningful names for coded variables "
   ]
  },
  {
   "cell_type": "markdown",
   "id": "708fabfa",
   "metadata": {},
   "source": [
    "The first big task here is to substitute all values with meaningful values. I have another csv with metadata."
   ]
  },
  {
   "cell_type": "code",
   "execution_count": 3,
   "id": "1cc61171",
   "metadata": {},
   "outputs": [],
   "source": [
    "metadata = pd.read_csv(\"metadata_highered.csv\", sep = \";\")"
   ]
  },
  {
   "cell_type": "code",
   "execution_count": null,
   "id": "033b02df",
   "metadata": {},
   "outputs": [],
   "source": [
    "metadata.head(60)"
   ]
  },
  {
   "cell_type": "markdown",
   "id": "f7771201",
   "metadata": {},
   "source": [
    "For my purposes, I will only need the first two columns - ID (which contains the code) and Title (which contains the human title). So I'll extract those:"
   ]
  },
  {
   "cell_type": "code",
   "execution_count": 4,
   "id": "abfc3afe",
   "metadata": {
    "scrolled": true
   },
   "outputs": [],
   "source": [
    "metadata = metadata[['ID', 'Title']].copy()"
   ]
  },
  {
   "cell_type": "markdown",
   "id": "6119f4fd",
   "metadata": {},
   "source": [
    "And I can drop the first ten rows, which contain info I do not need right now."
   ]
  },
  {
   "cell_type": "code",
   "execution_count": 5,
   "id": "76e732eb",
   "metadata": {},
   "outputs": [],
   "source": [
    "metadata = metadata.iloc[11:].copy()"
   ]
  },
  {
   "cell_type": "markdown",
   "id": "232412e6",
   "metadata": {},
   "source": [
    "I can also drop all the rows that say 'Key' (they are sort of sub-column headers)"
   ]
  },
  {
   "cell_type": "code",
   "execution_count": 6,
   "id": "f83ff83c",
   "metadata": {},
   "outputs": [],
   "source": [
    "metadata = metadata[metadata['ID'] != 'Key'].copy()"
   ]
  },
  {
   "cell_type": "code",
   "execution_count": 7,
   "id": "6912c028",
   "metadata": {},
   "outputs": [
    {
     "data": {
      "text/plain": [
       "['Geslacht',\n",
       " 'Migratieachtergrond',\n",
       " 'Onderwijssoort',\n",
       " 'StudierichtingISCED2013',\n",
       " 'Perioden']"
      ]
     },
     "execution_count": 7,
     "metadata": {},
     "output_type": "execute_result"
    }
   ],
   "source": [
    "# Then I'll gather the column names for each of the rows that need decoding \n",
    "\n",
    "to_decode = [row for row in metadata['ID'] if row in df.columns]        \n",
    "\n",
    "to_decode"
   ]
  },
  {
   "cell_type": "code",
   "execution_count": 8,
   "id": "8abf7a3e",
   "metadata": {},
   "outputs": [],
   "source": [
    "indexes = []\n",
    "for item in to_decode: \n",
    "    indexes.append(metadata[metadata['ID'] == item].index)"
   ]
  },
  {
   "cell_type": "markdown",
   "id": "d5d31868",
   "metadata": {},
   "source": [
    "Next I'll get the values *between* the indexes of the column names. (This process could undoubtedly be more streamlined and easier to read, but oh well - here it is)"
   ]
  },
  {
   "cell_type": "code",
   "execution_count": 9,
   "id": "9b031e42",
   "metadata": {},
   "outputs": [],
   "source": [
    "Geslacht = metadata.loc[indexes[0][0]+1:indexes[1][0]-1]"
   ]
  },
  {
   "cell_type": "code",
   "execution_count": 10,
   "id": "68155159",
   "metadata": {},
   "outputs": [],
   "source": [
    "Migratieachtergrond = metadata.loc[indexes[1][0]+1:indexes[2][0]-1]"
   ]
  },
  {
   "cell_type": "code",
   "execution_count": 11,
   "id": "da3ea7c7",
   "metadata": {},
   "outputs": [],
   "source": [
    "Onderwijssoort = metadata.loc[indexes[2][0]+1:indexes[3][0]-1]"
   ]
  },
  {
   "cell_type": "code",
   "execution_count": 12,
   "id": "bcedda76",
   "metadata": {
    "scrolled": true
   },
   "outputs": [],
   "source": [
    "StudierichtingISCED2013 = metadata.loc[indexes[3][0]+1:indexes[4][0]-1]"
   ]
  },
  {
   "cell_type": "code",
   "execution_count": 13,
   "id": "dcef4ade",
   "metadata": {},
   "outputs": [],
   "source": [
    "Perioden = metadata.loc[indexes[4][0]+1:]"
   ]
  },
  {
   "cell_type": "markdown",
   "id": "936a03cb",
   "metadata": {},
   "source": [
    "Then I'll use these in a function."
   ]
  },
  {
   "cell_type": "code",
   "execution_count": 14,
   "id": "98a7c332",
   "metadata": {},
   "outputs": [],
   "source": [
    "# OK this function took me FOREVER to get right, but BOY does it work. \n",
    "\n",
    "\n",
    "def decodevalues(column, dataframe):\n",
    "    \n",
    "    newvalues = []\n",
    "    \n",
    "    for item in df[column]: \n",
    "        for i in range(len(dataframe)):        \n",
    "            if item == dataframe['ID'].iloc[i]:\n",
    "                newvalues.append(dataframe['Title'].iloc[i])\n",
    "\n",
    "    df[column]=newvalues\n",
    "    return"
   ]
  },
  {
   "cell_type": "code",
   "execution_count": 15,
   "id": "105f90c2",
   "metadata": {},
   "outputs": [],
   "source": [
    "decodevalues(\"Geslacht\", Geslacht)"
   ]
  },
  {
   "cell_type": "code",
   "execution_count": 16,
   "id": "e1840676",
   "metadata": {},
   "outputs": [],
   "source": [
    "decodevalues(\"Migratieachtergrond\", Migratieachtergrond)"
   ]
  },
  {
   "cell_type": "code",
   "execution_count": 17,
   "id": "390dc1d9",
   "metadata": {},
   "outputs": [],
   "source": [
    "decodevalues(\"Onderwijssoort\", Onderwijssoort)"
   ]
  },
  {
   "cell_type": "code",
   "execution_count": 18,
   "id": "9f48ff22",
   "metadata": {},
   "outputs": [],
   "source": [
    "decodevalues(\"StudierichtingISCED2013\", StudierichtingISCED2013)"
   ]
  },
  {
   "cell_type": "code",
   "execution_count": 19,
   "id": "df8ad9ec",
   "metadata": {},
   "outputs": [],
   "source": [
    "#For 'perioden' it's actually better to follow a different route and just strip off the bit at the end.\n",
    "#I'll keep in mind that here '2010' means 'The academic year that starts in summer 2010', so 2010/2011."
   ]
  },
  {
   "cell_type": "code",
   "execution_count": 20,
   "id": "82bbc9e0",
   "metadata": {},
   "outputs": [],
   "source": [
    "def replacer(x):\n",
    "    return x.replace('SJ00','')"
   ]
  },
  {
   "cell_type": "code",
   "execution_count": 21,
   "id": "867bf072",
   "metadata": {},
   "outputs": [],
   "source": [
    "df['Perioden'] = df['Perioden'].apply(replacer)"
   ]
  },
  {
   "cell_type": "markdown",
   "id": "9e1843c2",
   "metadata": {},
   "source": [
    "### Next I'll rename some of the columns (and drop column 'ID', which is adequately represented in the dataframe's ID)"
   ]
  },
  {
   "cell_type": "code",
   "execution_count": 22,
   "id": "d4370866",
   "metadata": {},
   "outputs": [],
   "source": [
    "df = df.drop([\"ID\"], axis = 1).copy()"
   ]
  },
  {
   "cell_type": "code",
   "execution_count": 23,
   "id": "d75a9b00",
   "metadata": {
    "scrolled": false
   },
   "outputs": [],
   "source": [
    "df = df.rename(columns = {\"StudierichtingISCED2013\": \"Studierichting\", \"TotaalIngeschrevenen_1\": \"Enrollment\", \"Eerstejaarsstudenten_2\": \"Freshmen\", \"Ouderejaarsstudenten_3\": \"Non_freshmen\"}).copy()"
   ]
  },
  {
   "cell_type": "code",
   "execution_count": 24,
   "id": "d73afcf4",
   "metadata": {},
   "outputs": [],
   "source": [
    "df.reset_index(inplace = True, drop = True)"
   ]
  },
  {
   "cell_type": "code",
   "execution_count": 25,
   "id": "24e21c98",
   "metadata": {
    "scrolled": true
   },
   "outputs": [
    {
     "data": {
      "text/html": [
       "<div>\n",
       "<style scoped>\n",
       "    .dataframe tbody tr th:only-of-type {\n",
       "        vertical-align: middle;\n",
       "    }\n",
       "\n",
       "    .dataframe tbody tr th {\n",
       "        vertical-align: top;\n",
       "    }\n",
       "\n",
       "    .dataframe thead th {\n",
       "        text-align: right;\n",
       "    }\n",
       "</style>\n",
       "<table border=\"1\" class=\"dataframe\">\n",
       "  <thead>\n",
       "    <tr style=\"text-align: right;\">\n",
       "      <th></th>\n",
       "      <th>Geslacht</th>\n",
       "      <th>Migratieachtergrond</th>\n",
       "      <th>Onderwijssoort</th>\n",
       "      <th>Studierichting</th>\n",
       "      <th>Perioden</th>\n",
       "      <th>Enrollment</th>\n",
       "      <th>Freshmen</th>\n",
       "      <th>Non_freshmen</th>\n",
       "    </tr>\n",
       "  </thead>\n",
       "  <tbody>\n",
       "    <tr>\n",
       "      <th>0</th>\n",
       "      <td>Totaal mannen en vrouwen</td>\n",
       "      <td>Totaal migratieachtergrond</td>\n",
       "      <td>Hoger onderwijs</td>\n",
       "      <td>Totaal</td>\n",
       "      <td>2010</td>\n",
       "      <td>656706</td>\n",
       "      <td>134101</td>\n",
       "      <td>522605</td>\n",
       "    </tr>\n",
       "    <tr>\n",
       "      <th>1</th>\n",
       "      <td>Totaal mannen en vrouwen</td>\n",
       "      <td>Totaal migratieachtergrond</td>\n",
       "      <td>Hoger onderwijs</td>\n",
       "      <td>Totaal</td>\n",
       "      <td>2011</td>\n",
       "      <td>667194</td>\n",
       "      <td>135114</td>\n",
       "      <td>532080</td>\n",
       "    </tr>\n",
       "    <tr>\n",
       "      <th>2</th>\n",
       "      <td>Totaal mannen en vrouwen</td>\n",
       "      <td>Totaal migratieachtergrond</td>\n",
       "      <td>Hoger onderwijs</td>\n",
       "      <td>Totaal</td>\n",
       "      <td>2012</td>\n",
       "      <td>661122</td>\n",
       "      <td>133699</td>\n",
       "      <td>527423</td>\n",
       "    </tr>\n",
       "    <tr>\n",
       "      <th>3</th>\n",
       "      <td>Totaal mannen en vrouwen</td>\n",
       "      <td>Totaal migratieachtergrond</td>\n",
       "      <td>Hoger onderwijs</td>\n",
       "      <td>Totaal</td>\n",
       "      <td>2013</td>\n",
       "      <td>688191</td>\n",
       "      <td>143387</td>\n",
       "      <td>544804</td>\n",
       "    </tr>\n",
       "    <tr>\n",
       "      <th>4</th>\n",
       "      <td>Totaal mannen en vrouwen</td>\n",
       "      <td>Totaal migratieachtergrond</td>\n",
       "      <td>Hoger onderwijs</td>\n",
       "      <td>Totaal</td>\n",
       "      <td>2014</td>\n",
       "      <td>699572</td>\n",
       "      <td>138638</td>\n",
       "      <td>560934</td>\n",
       "    </tr>\n",
       "    <tr>\n",
       "      <th>5</th>\n",
       "      <td>Totaal mannen en vrouwen</td>\n",
       "      <td>Totaal migratieachtergrond</td>\n",
       "      <td>Hoger onderwijs</td>\n",
       "      <td>Totaal</td>\n",
       "      <td>2015</td>\n",
       "      <td>701118</td>\n",
       "      <td>132066</td>\n",
       "      <td>569052</td>\n",
       "    </tr>\n",
       "    <tr>\n",
       "      <th>6</th>\n",
       "      <td>Totaal mannen en vrouwen</td>\n",
       "      <td>Totaal migratieachtergrond</td>\n",
       "      <td>Hoger onderwijs</td>\n",
       "      <td>Totaal</td>\n",
       "      <td>2016</td>\n",
       "      <td>712113</td>\n",
       "      <td>141325</td>\n",
       "      <td>570788</td>\n",
       "    </tr>\n",
       "    <tr>\n",
       "      <th>7</th>\n",
       "      <td>Totaal mannen en vrouwen</td>\n",
       "      <td>Totaal migratieachtergrond</td>\n",
       "      <td>Hoger onderwijs</td>\n",
       "      <td>Totaal</td>\n",
       "      <td>2017</td>\n",
       "      <td>730146</td>\n",
       "      <td>151011</td>\n",
       "      <td>579135</td>\n",
       "    </tr>\n",
       "    <tr>\n",
       "      <th>8</th>\n",
       "      <td>Totaal mannen en vrouwen</td>\n",
       "      <td>Totaal migratieachtergrond</td>\n",
       "      <td>Hoger onderwijs</td>\n",
       "      <td>Totaal</td>\n",
       "      <td>2018</td>\n",
       "      <td>747841</td>\n",
       "      <td>156778</td>\n",
       "      <td>591063</td>\n",
       "    </tr>\n",
       "    <tr>\n",
       "      <th>9</th>\n",
       "      <td>Totaal mannen en vrouwen</td>\n",
       "      <td>Totaal migratieachtergrond</td>\n",
       "      <td>Hoger onderwijs</td>\n",
       "      <td>Totaal</td>\n",
       "      <td>2019</td>\n",
       "      <td>767577</td>\n",
       "      <td>159306</td>\n",
       "      <td>608271</td>\n",
       "    </tr>\n",
       "    <tr>\n",
       "      <th>10</th>\n",
       "      <td>Totaal mannen en vrouwen</td>\n",
       "      <td>Totaal migratieachtergrond</td>\n",
       "      <td>Hoger onderwijs</td>\n",
       "      <td>Totaal</td>\n",
       "      <td>2020</td>\n",
       "      <td>817271</td>\n",
       "      <td>176965</td>\n",
       "      <td>640306</td>\n",
       "    </tr>\n",
       "    <tr>\n",
       "      <th>11</th>\n",
       "      <td>Totaal mannen en vrouwen</td>\n",
       "      <td>Totaal migratieachtergrond</td>\n",
       "      <td>Hoger onderwijs</td>\n",
       "      <td>Totaal</td>\n",
       "      <td>2021</td>\n",
       "      <td>832721</td>\n",
       "      <td>164874</td>\n",
       "      <td>667847</td>\n",
       "    </tr>\n",
       "    <tr>\n",
       "      <th>12</th>\n",
       "      <td>Totaal mannen en vrouwen</td>\n",
       "      <td>Totaal migratieachtergrond</td>\n",
       "      <td>Hoger onderwijs</td>\n",
       "      <td>01 Onderwijs</td>\n",
       "      <td>2010</td>\n",
       "      <td>86510</td>\n",
       "      <td>15012</td>\n",
       "      <td>71498</td>\n",
       "    </tr>\n",
       "    <tr>\n",
       "      <th>13</th>\n",
       "      <td>Totaal mannen en vrouwen</td>\n",
       "      <td>Totaal migratieachtergrond</td>\n",
       "      <td>Hoger onderwijs</td>\n",
       "      <td>01 Onderwijs</td>\n",
       "      <td>2011</td>\n",
       "      <td>83678</td>\n",
       "      <td>13900</td>\n",
       "      <td>69778</td>\n",
       "    </tr>\n",
       "    <tr>\n",
       "      <th>14</th>\n",
       "      <td>Totaal mannen en vrouwen</td>\n",
       "      <td>Totaal migratieachtergrond</td>\n",
       "      <td>Hoger onderwijs</td>\n",
       "      <td>01 Onderwijs</td>\n",
       "      <td>2012</td>\n",
       "      <td>78873</td>\n",
       "      <td>12851</td>\n",
       "      <td>66022</td>\n",
       "    </tr>\n",
       "    <tr>\n",
       "      <th>15</th>\n",
       "      <td>Totaal mannen en vrouwen</td>\n",
       "      <td>Totaal migratieachtergrond</td>\n",
       "      <td>Hoger onderwijs</td>\n",
       "      <td>01 Onderwijs</td>\n",
       "      <td>2013</td>\n",
       "      <td>80468</td>\n",
       "      <td>13572</td>\n",
       "      <td>66896</td>\n",
       "    </tr>\n",
       "    <tr>\n",
       "      <th>16</th>\n",
       "      <td>Totaal mannen en vrouwen</td>\n",
       "      <td>Totaal migratieachtergrond</td>\n",
       "      <td>Hoger onderwijs</td>\n",
       "      <td>01 Onderwijs</td>\n",
       "      <td>2014</td>\n",
       "      <td>80632</td>\n",
       "      <td>13135</td>\n",
       "      <td>67497</td>\n",
       "    </tr>\n",
       "    <tr>\n",
       "      <th>17</th>\n",
       "      <td>Totaal mannen en vrouwen</td>\n",
       "      <td>Totaal migratieachtergrond</td>\n",
       "      <td>Hoger onderwijs</td>\n",
       "      <td>01 Onderwijs</td>\n",
       "      <td>2015</td>\n",
       "      <td>77677</td>\n",
       "      <td>10549</td>\n",
       "      <td>67128</td>\n",
       "    </tr>\n",
       "    <tr>\n",
       "      <th>18</th>\n",
       "      <td>Totaal mannen en vrouwen</td>\n",
       "      <td>Totaal migratieachtergrond</td>\n",
       "      <td>Hoger onderwijs</td>\n",
       "      <td>01 Onderwijs</td>\n",
       "      <td>2016</td>\n",
       "      <td>76169</td>\n",
       "      <td>10817</td>\n",
       "      <td>65352</td>\n",
       "    </tr>\n",
       "    <tr>\n",
       "      <th>19</th>\n",
       "      <td>Totaal mannen en vrouwen</td>\n",
       "      <td>Totaal migratieachtergrond</td>\n",
       "      <td>Hoger onderwijs</td>\n",
       "      <td>01 Onderwijs</td>\n",
       "      <td>2017</td>\n",
       "      <td>74968</td>\n",
       "      <td>11218</td>\n",
       "      <td>63750</td>\n",
       "    </tr>\n",
       "    <tr>\n",
       "      <th>20</th>\n",
       "      <td>Totaal mannen en vrouwen</td>\n",
       "      <td>Totaal migratieachtergrond</td>\n",
       "      <td>Hoger onderwijs</td>\n",
       "      <td>01 Onderwijs</td>\n",
       "      <td>2018</td>\n",
       "      <td>73995</td>\n",
       "      <td>11704</td>\n",
       "      <td>62291</td>\n",
       "    </tr>\n",
       "    <tr>\n",
       "      <th>21</th>\n",
       "      <td>Totaal mannen en vrouwen</td>\n",
       "      <td>Totaal migratieachtergrond</td>\n",
       "      <td>Hoger onderwijs</td>\n",
       "      <td>01 Onderwijs</td>\n",
       "      <td>2019</td>\n",
       "      <td>74563</td>\n",
       "      <td>12254</td>\n",
       "      <td>62309</td>\n",
       "    </tr>\n",
       "    <tr>\n",
       "      <th>22</th>\n",
       "      <td>Totaal mannen en vrouwen</td>\n",
       "      <td>Totaal migratieachtergrond</td>\n",
       "      <td>Hoger onderwijs</td>\n",
       "      <td>01 Onderwijs</td>\n",
       "      <td>2020</td>\n",
       "      <td>79967</td>\n",
       "      <td>15026</td>\n",
       "      <td>64941</td>\n",
       "    </tr>\n",
       "    <tr>\n",
       "      <th>23</th>\n",
       "      <td>Totaal mannen en vrouwen</td>\n",
       "      <td>Totaal migratieachtergrond</td>\n",
       "      <td>Hoger onderwijs</td>\n",
       "      <td>01 Onderwijs</td>\n",
       "      <td>2021</td>\n",
       "      <td>81100</td>\n",
       "      <td>12954</td>\n",
       "      <td>68146</td>\n",
       "    </tr>\n",
       "    <tr>\n",
       "      <th>24</th>\n",
       "      <td>Totaal mannen en vrouwen</td>\n",
       "      <td>Totaal migratieachtergrond</td>\n",
       "      <td>Hoger onderwijs</td>\n",
       "      <td>011 Onderwijskunde, lerarenopleiding...</td>\n",
       "      <td>2010</td>\n",
       "      <td>86510</td>\n",
       "      <td>15012</td>\n",
       "      <td>71498</td>\n",
       "    </tr>\n",
       "    <tr>\n",
       "      <th>25</th>\n",
       "      <td>Totaal mannen en vrouwen</td>\n",
       "      <td>Totaal migratieachtergrond</td>\n",
       "      <td>Hoger onderwijs</td>\n",
       "      <td>011 Onderwijskunde, lerarenopleiding...</td>\n",
       "      <td>2011</td>\n",
       "      <td>83678</td>\n",
       "      <td>13900</td>\n",
       "      <td>69778</td>\n",
       "    </tr>\n",
       "    <tr>\n",
       "      <th>26</th>\n",
       "      <td>Totaal mannen en vrouwen</td>\n",
       "      <td>Totaal migratieachtergrond</td>\n",
       "      <td>Hoger onderwijs</td>\n",
       "      <td>011 Onderwijskunde, lerarenopleiding...</td>\n",
       "      <td>2012</td>\n",
       "      <td>78873</td>\n",
       "      <td>12851</td>\n",
       "      <td>66022</td>\n",
       "    </tr>\n",
       "    <tr>\n",
       "      <th>27</th>\n",
       "      <td>Totaal mannen en vrouwen</td>\n",
       "      <td>Totaal migratieachtergrond</td>\n",
       "      <td>Hoger onderwijs</td>\n",
       "      <td>011 Onderwijskunde, lerarenopleiding...</td>\n",
       "      <td>2013</td>\n",
       "      <td>80468</td>\n",
       "      <td>13572</td>\n",
       "      <td>66896</td>\n",
       "    </tr>\n",
       "    <tr>\n",
       "      <th>28</th>\n",
       "      <td>Totaal mannen en vrouwen</td>\n",
       "      <td>Totaal migratieachtergrond</td>\n",
       "      <td>Hoger onderwijs</td>\n",
       "      <td>011 Onderwijskunde, lerarenopleiding...</td>\n",
       "      <td>2014</td>\n",
       "      <td>80632</td>\n",
       "      <td>13135</td>\n",
       "      <td>67497</td>\n",
       "    </tr>\n",
       "    <tr>\n",
       "      <th>29</th>\n",
       "      <td>Totaal mannen en vrouwen</td>\n",
       "      <td>Totaal migratieachtergrond</td>\n",
       "      <td>Hoger onderwijs</td>\n",
       "      <td>011 Onderwijskunde, lerarenopleiding...</td>\n",
       "      <td>2015</td>\n",
       "      <td>77677</td>\n",
       "      <td>10549</td>\n",
       "      <td>67128</td>\n",
       "    </tr>\n",
       "    <tr>\n",
       "      <th>30</th>\n",
       "      <td>Totaal mannen en vrouwen</td>\n",
       "      <td>Totaal migratieachtergrond</td>\n",
       "      <td>Hoger onderwijs</td>\n",
       "      <td>011 Onderwijskunde, lerarenopleiding...</td>\n",
       "      <td>2016</td>\n",
       "      <td>76169</td>\n",
       "      <td>10817</td>\n",
       "      <td>65352</td>\n",
       "    </tr>\n",
       "    <tr>\n",
       "      <th>31</th>\n",
       "      <td>Totaal mannen en vrouwen</td>\n",
       "      <td>Totaal migratieachtergrond</td>\n",
       "      <td>Hoger onderwijs</td>\n",
       "      <td>011 Onderwijskunde, lerarenopleiding...</td>\n",
       "      <td>2017</td>\n",
       "      <td>74968</td>\n",
       "      <td>11218</td>\n",
       "      <td>63750</td>\n",
       "    </tr>\n",
       "    <tr>\n",
       "      <th>32</th>\n",
       "      <td>Totaal mannen en vrouwen</td>\n",
       "      <td>Totaal migratieachtergrond</td>\n",
       "      <td>Hoger onderwijs</td>\n",
       "      <td>011 Onderwijskunde, lerarenopleiding...</td>\n",
       "      <td>2018</td>\n",
       "      <td>73995</td>\n",
       "      <td>11704</td>\n",
       "      <td>62291</td>\n",
       "    </tr>\n",
       "    <tr>\n",
       "      <th>33</th>\n",
       "      <td>Totaal mannen en vrouwen</td>\n",
       "      <td>Totaal migratieachtergrond</td>\n",
       "      <td>Hoger onderwijs</td>\n",
       "      <td>011 Onderwijskunde, lerarenopleiding...</td>\n",
       "      <td>2019</td>\n",
       "      <td>74563</td>\n",
       "      <td>12254</td>\n",
       "      <td>62309</td>\n",
       "    </tr>\n",
       "    <tr>\n",
       "      <th>34</th>\n",
       "      <td>Totaal mannen en vrouwen</td>\n",
       "      <td>Totaal migratieachtergrond</td>\n",
       "      <td>Hoger onderwijs</td>\n",
       "      <td>011 Onderwijskunde, lerarenopleiding...</td>\n",
       "      <td>2020</td>\n",
       "      <td>79967</td>\n",
       "      <td>15026</td>\n",
       "      <td>64941</td>\n",
       "    </tr>\n",
       "    <tr>\n",
       "      <th>35</th>\n",
       "      <td>Totaal mannen en vrouwen</td>\n",
       "      <td>Totaal migratieachtergrond</td>\n",
       "      <td>Hoger onderwijs</td>\n",
       "      <td>011 Onderwijskunde, lerarenopleiding...</td>\n",
       "      <td>2021</td>\n",
       "      <td>81100</td>\n",
       "      <td>12954</td>\n",
       "      <td>68146</td>\n",
       "    </tr>\n",
       "    <tr>\n",
       "      <th>36</th>\n",
       "      <td>Totaal mannen en vrouwen</td>\n",
       "      <td>Totaal migratieachtergrond</td>\n",
       "      <td>Hoger onderwijs</td>\n",
       "      <td>0110 Onderwijskunde, lerarenopl. z.n.d.</td>\n",
       "      <td>2010</td>\n",
       "      <td>0</td>\n",
       "      <td>0</td>\n",
       "      <td>0</td>\n",
       "    </tr>\n",
       "    <tr>\n",
       "      <th>37</th>\n",
       "      <td>Totaal mannen en vrouwen</td>\n",
       "      <td>Totaal migratieachtergrond</td>\n",
       "      <td>Hoger onderwijs</td>\n",
       "      <td>0110 Onderwijskunde, lerarenopl. z.n.d.</td>\n",
       "      <td>2011</td>\n",
       "      <td>0</td>\n",
       "      <td>0</td>\n",
       "      <td>0</td>\n",
       "    </tr>\n",
       "    <tr>\n",
       "      <th>38</th>\n",
       "      <td>Totaal mannen en vrouwen</td>\n",
       "      <td>Totaal migratieachtergrond</td>\n",
       "      <td>Hoger onderwijs</td>\n",
       "      <td>0110 Onderwijskunde, lerarenopl. z.n.d.</td>\n",
       "      <td>2012</td>\n",
       "      <td>0</td>\n",
       "      <td>0</td>\n",
       "      <td>0</td>\n",
       "    </tr>\n",
       "    <tr>\n",
       "      <th>39</th>\n",
       "      <td>Totaal mannen en vrouwen</td>\n",
       "      <td>Totaal migratieachtergrond</td>\n",
       "      <td>Hoger onderwijs</td>\n",
       "      <td>0110 Onderwijskunde, lerarenopl. z.n.d.</td>\n",
       "      <td>2013</td>\n",
       "      <td>0</td>\n",
       "      <td>0</td>\n",
       "      <td>0</td>\n",
       "    </tr>\n",
       "    <tr>\n",
       "      <th>40</th>\n",
       "      <td>Totaal mannen en vrouwen</td>\n",
       "      <td>Totaal migratieachtergrond</td>\n",
       "      <td>Hoger onderwijs</td>\n",
       "      <td>0110 Onderwijskunde, lerarenopl. z.n.d.</td>\n",
       "      <td>2014</td>\n",
       "      <td>0</td>\n",
       "      <td>0</td>\n",
       "      <td>0</td>\n",
       "    </tr>\n",
       "    <tr>\n",
       "      <th>41</th>\n",
       "      <td>Totaal mannen en vrouwen</td>\n",
       "      <td>Totaal migratieachtergrond</td>\n",
       "      <td>Hoger onderwijs</td>\n",
       "      <td>0110 Onderwijskunde, lerarenopl. z.n.d.</td>\n",
       "      <td>2015</td>\n",
       "      <td>0</td>\n",
       "      <td>0</td>\n",
       "      <td>0</td>\n",
       "    </tr>\n",
       "    <tr>\n",
       "      <th>42</th>\n",
       "      <td>Totaal mannen en vrouwen</td>\n",
       "      <td>Totaal migratieachtergrond</td>\n",
       "      <td>Hoger onderwijs</td>\n",
       "      <td>0110 Onderwijskunde, lerarenopl. z.n.d.</td>\n",
       "      <td>2016</td>\n",
       "      <td>0</td>\n",
       "      <td>0</td>\n",
       "      <td>0</td>\n",
       "    </tr>\n",
       "    <tr>\n",
       "      <th>43</th>\n",
       "      <td>Totaal mannen en vrouwen</td>\n",
       "      <td>Totaal migratieachtergrond</td>\n",
       "      <td>Hoger onderwijs</td>\n",
       "      <td>0110 Onderwijskunde, lerarenopl. z.n.d.</td>\n",
       "      <td>2017</td>\n",
       "      <td>0</td>\n",
       "      <td>0</td>\n",
       "      <td>0</td>\n",
       "    </tr>\n",
       "    <tr>\n",
       "      <th>44</th>\n",
       "      <td>Totaal mannen en vrouwen</td>\n",
       "      <td>Totaal migratieachtergrond</td>\n",
       "      <td>Hoger onderwijs</td>\n",
       "      <td>0110 Onderwijskunde, lerarenopl. z.n.d.</td>\n",
       "      <td>2018</td>\n",
       "      <td>0</td>\n",
       "      <td>0</td>\n",
       "      <td>0</td>\n",
       "    </tr>\n",
       "    <tr>\n",
       "      <th>45</th>\n",
       "      <td>Totaal mannen en vrouwen</td>\n",
       "      <td>Totaal migratieachtergrond</td>\n",
       "      <td>Hoger onderwijs</td>\n",
       "      <td>0110 Onderwijskunde, lerarenopl. z.n.d.</td>\n",
       "      <td>2019</td>\n",
       "      <td>0</td>\n",
       "      <td>0</td>\n",
       "      <td>0</td>\n",
       "    </tr>\n",
       "    <tr>\n",
       "      <th>46</th>\n",
       "      <td>Totaal mannen en vrouwen</td>\n",
       "      <td>Totaal migratieachtergrond</td>\n",
       "      <td>Hoger onderwijs</td>\n",
       "      <td>0110 Onderwijskunde, lerarenopl. z.n.d.</td>\n",
       "      <td>2020</td>\n",
       "      <td>0</td>\n",
       "      <td>0</td>\n",
       "      <td>0</td>\n",
       "    </tr>\n",
       "    <tr>\n",
       "      <th>47</th>\n",
       "      <td>Totaal mannen en vrouwen</td>\n",
       "      <td>Totaal migratieachtergrond</td>\n",
       "      <td>Hoger onderwijs</td>\n",
       "      <td>0110 Onderwijskunde, lerarenopl. z.n.d.</td>\n",
       "      <td>2021</td>\n",
       "      <td>0</td>\n",
       "      <td>0</td>\n",
       "      <td>0</td>\n",
       "    </tr>\n",
       "    <tr>\n",
       "      <th>48</th>\n",
       "      <td>Totaal mannen en vrouwen</td>\n",
       "      <td>Totaal migratieachtergrond</td>\n",
       "      <td>Hoger onderwijs</td>\n",
       "      <td>0111 Onderwijskunde</td>\n",
       "      <td>2010</td>\n",
       "      <td>17142</td>\n",
       "      <td>2890</td>\n",
       "      <td>14252</td>\n",
       "    </tr>\n",
       "    <tr>\n",
       "      <th>49</th>\n",
       "      <td>Totaal mannen en vrouwen</td>\n",
       "      <td>Totaal migratieachtergrond</td>\n",
       "      <td>Hoger onderwijs</td>\n",
       "      <td>0111 Onderwijskunde</td>\n",
       "      <td>2011</td>\n",
       "      <td>17322</td>\n",
       "      <td>2814</td>\n",
       "      <td>14508</td>\n",
       "    </tr>\n",
       "    <tr>\n",
       "      <th>50</th>\n",
       "      <td>Totaal mannen en vrouwen</td>\n",
       "      <td>Totaal migratieachtergrond</td>\n",
       "      <td>Hoger onderwijs</td>\n",
       "      <td>0111 Onderwijskunde</td>\n",
       "      <td>2012</td>\n",
       "      <td>16915</td>\n",
       "      <td>2703</td>\n",
       "      <td>14212</td>\n",
       "    </tr>\n",
       "    <tr>\n",
       "      <th>51</th>\n",
       "      <td>Totaal mannen en vrouwen</td>\n",
       "      <td>Totaal migratieachtergrond</td>\n",
       "      <td>Hoger onderwijs</td>\n",
       "      <td>0111 Onderwijskunde</td>\n",
       "      <td>2013</td>\n",
       "      <td>17398</td>\n",
       "      <td>2917</td>\n",
       "      <td>14481</td>\n",
       "    </tr>\n",
       "    <tr>\n",
       "      <th>52</th>\n",
       "      <td>Totaal mannen en vrouwen</td>\n",
       "      <td>Totaal migratieachtergrond</td>\n",
       "      <td>Hoger onderwijs</td>\n",
       "      <td>0111 Onderwijskunde</td>\n",
       "      <td>2014</td>\n",
       "      <td>17601</td>\n",
       "      <td>2734</td>\n",
       "      <td>14867</td>\n",
       "    </tr>\n",
       "    <tr>\n",
       "      <th>53</th>\n",
       "      <td>Totaal mannen en vrouwen</td>\n",
       "      <td>Totaal migratieachtergrond</td>\n",
       "      <td>Hoger onderwijs</td>\n",
       "      <td>0111 Onderwijskunde</td>\n",
       "      <td>2015</td>\n",
       "      <td>17521</td>\n",
       "      <td>2374</td>\n",
       "      <td>15147</td>\n",
       "    </tr>\n",
       "    <tr>\n",
       "      <th>54</th>\n",
       "      <td>Totaal mannen en vrouwen</td>\n",
       "      <td>Totaal migratieachtergrond</td>\n",
       "      <td>Hoger onderwijs</td>\n",
       "      <td>0111 Onderwijskunde</td>\n",
       "      <td>2016</td>\n",
       "      <td>16809</td>\n",
       "      <td>2137</td>\n",
       "      <td>14672</td>\n",
       "    </tr>\n",
       "    <tr>\n",
       "      <th>55</th>\n",
       "      <td>Totaal mannen en vrouwen</td>\n",
       "      <td>Totaal migratieachtergrond</td>\n",
       "      <td>Hoger onderwijs</td>\n",
       "      <td>0111 Onderwijskunde</td>\n",
       "      <td>2017</td>\n",
       "      <td>16374</td>\n",
       "      <td>2072</td>\n",
       "      <td>14302</td>\n",
       "    </tr>\n",
       "    <tr>\n",
       "      <th>56</th>\n",
       "      <td>Totaal mannen en vrouwen</td>\n",
       "      <td>Totaal migratieachtergrond</td>\n",
       "      <td>Hoger onderwijs</td>\n",
       "      <td>0111 Onderwijskunde</td>\n",
       "      <td>2018</td>\n",
       "      <td>15895</td>\n",
       "      <td>2315</td>\n",
       "      <td>13580</td>\n",
       "    </tr>\n",
       "    <tr>\n",
       "      <th>57</th>\n",
       "      <td>Totaal mannen en vrouwen</td>\n",
       "      <td>Totaal migratieachtergrond</td>\n",
       "      <td>Hoger onderwijs</td>\n",
       "      <td>0111 Onderwijskunde</td>\n",
       "      <td>2019</td>\n",
       "      <td>16139</td>\n",
       "      <td>2578</td>\n",
       "      <td>13561</td>\n",
       "    </tr>\n",
       "    <tr>\n",
       "      <th>58</th>\n",
       "      <td>Totaal mannen en vrouwen</td>\n",
       "      <td>Totaal migratieachtergrond</td>\n",
       "      <td>Hoger onderwijs</td>\n",
       "      <td>0111 Onderwijskunde</td>\n",
       "      <td>2020</td>\n",
       "      <td>17493</td>\n",
       "      <td>3388</td>\n",
       "      <td>14105</td>\n",
       "    </tr>\n",
       "    <tr>\n",
       "      <th>59</th>\n",
       "      <td>Totaal mannen en vrouwen</td>\n",
       "      <td>Totaal migratieachtergrond</td>\n",
       "      <td>Hoger onderwijs</td>\n",
       "      <td>0111 Onderwijskunde</td>\n",
       "      <td>2021</td>\n",
       "      <td>18774</td>\n",
       "      <td>3253</td>\n",
       "      <td>15521</td>\n",
       "    </tr>\n",
       "  </tbody>\n",
       "</table>\n",
       "</div>"
      ],
      "text/plain": [
       "                    Geslacht         Migratieachtergrond   Onderwijssoort  \\\n",
       "0   Totaal mannen en vrouwen  Totaal migratieachtergrond  Hoger onderwijs   \n",
       "1   Totaal mannen en vrouwen  Totaal migratieachtergrond  Hoger onderwijs   \n",
       "2   Totaal mannen en vrouwen  Totaal migratieachtergrond  Hoger onderwijs   \n",
       "3   Totaal mannen en vrouwen  Totaal migratieachtergrond  Hoger onderwijs   \n",
       "4   Totaal mannen en vrouwen  Totaal migratieachtergrond  Hoger onderwijs   \n",
       "5   Totaal mannen en vrouwen  Totaal migratieachtergrond  Hoger onderwijs   \n",
       "6   Totaal mannen en vrouwen  Totaal migratieachtergrond  Hoger onderwijs   \n",
       "7   Totaal mannen en vrouwen  Totaal migratieachtergrond  Hoger onderwijs   \n",
       "8   Totaal mannen en vrouwen  Totaal migratieachtergrond  Hoger onderwijs   \n",
       "9   Totaal mannen en vrouwen  Totaal migratieachtergrond  Hoger onderwijs   \n",
       "10  Totaal mannen en vrouwen  Totaal migratieachtergrond  Hoger onderwijs   \n",
       "11  Totaal mannen en vrouwen  Totaal migratieachtergrond  Hoger onderwijs   \n",
       "12  Totaal mannen en vrouwen  Totaal migratieachtergrond  Hoger onderwijs   \n",
       "13  Totaal mannen en vrouwen  Totaal migratieachtergrond  Hoger onderwijs   \n",
       "14  Totaal mannen en vrouwen  Totaal migratieachtergrond  Hoger onderwijs   \n",
       "15  Totaal mannen en vrouwen  Totaal migratieachtergrond  Hoger onderwijs   \n",
       "16  Totaal mannen en vrouwen  Totaal migratieachtergrond  Hoger onderwijs   \n",
       "17  Totaal mannen en vrouwen  Totaal migratieachtergrond  Hoger onderwijs   \n",
       "18  Totaal mannen en vrouwen  Totaal migratieachtergrond  Hoger onderwijs   \n",
       "19  Totaal mannen en vrouwen  Totaal migratieachtergrond  Hoger onderwijs   \n",
       "20  Totaal mannen en vrouwen  Totaal migratieachtergrond  Hoger onderwijs   \n",
       "21  Totaal mannen en vrouwen  Totaal migratieachtergrond  Hoger onderwijs   \n",
       "22  Totaal mannen en vrouwen  Totaal migratieachtergrond  Hoger onderwijs   \n",
       "23  Totaal mannen en vrouwen  Totaal migratieachtergrond  Hoger onderwijs   \n",
       "24  Totaal mannen en vrouwen  Totaal migratieachtergrond  Hoger onderwijs   \n",
       "25  Totaal mannen en vrouwen  Totaal migratieachtergrond  Hoger onderwijs   \n",
       "26  Totaal mannen en vrouwen  Totaal migratieachtergrond  Hoger onderwijs   \n",
       "27  Totaal mannen en vrouwen  Totaal migratieachtergrond  Hoger onderwijs   \n",
       "28  Totaal mannen en vrouwen  Totaal migratieachtergrond  Hoger onderwijs   \n",
       "29  Totaal mannen en vrouwen  Totaal migratieachtergrond  Hoger onderwijs   \n",
       "30  Totaal mannen en vrouwen  Totaal migratieachtergrond  Hoger onderwijs   \n",
       "31  Totaal mannen en vrouwen  Totaal migratieachtergrond  Hoger onderwijs   \n",
       "32  Totaal mannen en vrouwen  Totaal migratieachtergrond  Hoger onderwijs   \n",
       "33  Totaal mannen en vrouwen  Totaal migratieachtergrond  Hoger onderwijs   \n",
       "34  Totaal mannen en vrouwen  Totaal migratieachtergrond  Hoger onderwijs   \n",
       "35  Totaal mannen en vrouwen  Totaal migratieachtergrond  Hoger onderwijs   \n",
       "36  Totaal mannen en vrouwen  Totaal migratieachtergrond  Hoger onderwijs   \n",
       "37  Totaal mannen en vrouwen  Totaal migratieachtergrond  Hoger onderwijs   \n",
       "38  Totaal mannen en vrouwen  Totaal migratieachtergrond  Hoger onderwijs   \n",
       "39  Totaal mannen en vrouwen  Totaal migratieachtergrond  Hoger onderwijs   \n",
       "40  Totaal mannen en vrouwen  Totaal migratieachtergrond  Hoger onderwijs   \n",
       "41  Totaal mannen en vrouwen  Totaal migratieachtergrond  Hoger onderwijs   \n",
       "42  Totaal mannen en vrouwen  Totaal migratieachtergrond  Hoger onderwijs   \n",
       "43  Totaal mannen en vrouwen  Totaal migratieachtergrond  Hoger onderwijs   \n",
       "44  Totaal mannen en vrouwen  Totaal migratieachtergrond  Hoger onderwijs   \n",
       "45  Totaal mannen en vrouwen  Totaal migratieachtergrond  Hoger onderwijs   \n",
       "46  Totaal mannen en vrouwen  Totaal migratieachtergrond  Hoger onderwijs   \n",
       "47  Totaal mannen en vrouwen  Totaal migratieachtergrond  Hoger onderwijs   \n",
       "48  Totaal mannen en vrouwen  Totaal migratieachtergrond  Hoger onderwijs   \n",
       "49  Totaal mannen en vrouwen  Totaal migratieachtergrond  Hoger onderwijs   \n",
       "50  Totaal mannen en vrouwen  Totaal migratieachtergrond  Hoger onderwijs   \n",
       "51  Totaal mannen en vrouwen  Totaal migratieachtergrond  Hoger onderwijs   \n",
       "52  Totaal mannen en vrouwen  Totaal migratieachtergrond  Hoger onderwijs   \n",
       "53  Totaal mannen en vrouwen  Totaal migratieachtergrond  Hoger onderwijs   \n",
       "54  Totaal mannen en vrouwen  Totaal migratieachtergrond  Hoger onderwijs   \n",
       "55  Totaal mannen en vrouwen  Totaal migratieachtergrond  Hoger onderwijs   \n",
       "56  Totaal mannen en vrouwen  Totaal migratieachtergrond  Hoger onderwijs   \n",
       "57  Totaal mannen en vrouwen  Totaal migratieachtergrond  Hoger onderwijs   \n",
       "58  Totaal mannen en vrouwen  Totaal migratieachtergrond  Hoger onderwijs   \n",
       "59  Totaal mannen en vrouwen  Totaal migratieachtergrond  Hoger onderwijs   \n",
       "\n",
       "                             Studierichting Perioden  Enrollment  Freshmen  \\\n",
       "0                                    Totaal     2010      656706    134101   \n",
       "1                                    Totaal     2011      667194    135114   \n",
       "2                                    Totaal     2012      661122    133699   \n",
       "3                                    Totaal     2013      688191    143387   \n",
       "4                                    Totaal     2014      699572    138638   \n",
       "5                                    Totaal     2015      701118    132066   \n",
       "6                                    Totaal     2016      712113    141325   \n",
       "7                                    Totaal     2017      730146    151011   \n",
       "8                                    Totaal     2018      747841    156778   \n",
       "9                                    Totaal     2019      767577    159306   \n",
       "10                                   Totaal     2020      817271    176965   \n",
       "11                                   Totaal     2021      832721    164874   \n",
       "12                             01 Onderwijs     2010       86510     15012   \n",
       "13                             01 Onderwijs     2011       83678     13900   \n",
       "14                             01 Onderwijs     2012       78873     12851   \n",
       "15                             01 Onderwijs     2013       80468     13572   \n",
       "16                             01 Onderwijs     2014       80632     13135   \n",
       "17                             01 Onderwijs     2015       77677     10549   \n",
       "18                             01 Onderwijs     2016       76169     10817   \n",
       "19                             01 Onderwijs     2017       74968     11218   \n",
       "20                             01 Onderwijs     2018       73995     11704   \n",
       "21                             01 Onderwijs     2019       74563     12254   \n",
       "22                             01 Onderwijs     2020       79967     15026   \n",
       "23                             01 Onderwijs     2021       81100     12954   \n",
       "24  011 Onderwijskunde, lerarenopleiding...     2010       86510     15012   \n",
       "25  011 Onderwijskunde, lerarenopleiding...     2011       83678     13900   \n",
       "26  011 Onderwijskunde, lerarenopleiding...     2012       78873     12851   \n",
       "27  011 Onderwijskunde, lerarenopleiding...     2013       80468     13572   \n",
       "28  011 Onderwijskunde, lerarenopleiding...     2014       80632     13135   \n",
       "29  011 Onderwijskunde, lerarenopleiding...     2015       77677     10549   \n",
       "30  011 Onderwijskunde, lerarenopleiding...     2016       76169     10817   \n",
       "31  011 Onderwijskunde, lerarenopleiding...     2017       74968     11218   \n",
       "32  011 Onderwijskunde, lerarenopleiding...     2018       73995     11704   \n",
       "33  011 Onderwijskunde, lerarenopleiding...     2019       74563     12254   \n",
       "34  011 Onderwijskunde, lerarenopleiding...     2020       79967     15026   \n",
       "35  011 Onderwijskunde, lerarenopleiding...     2021       81100     12954   \n",
       "36  0110 Onderwijskunde, lerarenopl. z.n.d.     2010           0         0   \n",
       "37  0110 Onderwijskunde, lerarenopl. z.n.d.     2011           0         0   \n",
       "38  0110 Onderwijskunde, lerarenopl. z.n.d.     2012           0         0   \n",
       "39  0110 Onderwijskunde, lerarenopl. z.n.d.     2013           0         0   \n",
       "40  0110 Onderwijskunde, lerarenopl. z.n.d.     2014           0         0   \n",
       "41  0110 Onderwijskunde, lerarenopl. z.n.d.     2015           0         0   \n",
       "42  0110 Onderwijskunde, lerarenopl. z.n.d.     2016           0         0   \n",
       "43  0110 Onderwijskunde, lerarenopl. z.n.d.     2017           0         0   \n",
       "44  0110 Onderwijskunde, lerarenopl. z.n.d.     2018           0         0   \n",
       "45  0110 Onderwijskunde, lerarenopl. z.n.d.     2019           0         0   \n",
       "46  0110 Onderwijskunde, lerarenopl. z.n.d.     2020           0         0   \n",
       "47  0110 Onderwijskunde, lerarenopl. z.n.d.     2021           0         0   \n",
       "48                      0111 Onderwijskunde     2010       17142      2890   \n",
       "49                      0111 Onderwijskunde     2011       17322      2814   \n",
       "50                      0111 Onderwijskunde     2012       16915      2703   \n",
       "51                      0111 Onderwijskunde     2013       17398      2917   \n",
       "52                      0111 Onderwijskunde     2014       17601      2734   \n",
       "53                      0111 Onderwijskunde     2015       17521      2374   \n",
       "54                      0111 Onderwijskunde     2016       16809      2137   \n",
       "55                      0111 Onderwijskunde     2017       16374      2072   \n",
       "56                      0111 Onderwijskunde     2018       15895      2315   \n",
       "57                      0111 Onderwijskunde     2019       16139      2578   \n",
       "58                      0111 Onderwijskunde     2020       17493      3388   \n",
       "59                      0111 Onderwijskunde     2021       18774      3253   \n",
       "\n",
       "    Non_freshmen  \n",
       "0         522605  \n",
       "1         532080  \n",
       "2         527423  \n",
       "3         544804  \n",
       "4         560934  \n",
       "5         569052  \n",
       "6         570788  \n",
       "7         579135  \n",
       "8         591063  \n",
       "9         608271  \n",
       "10        640306  \n",
       "11        667847  \n",
       "12         71498  \n",
       "13         69778  \n",
       "14         66022  \n",
       "15         66896  \n",
       "16         67497  \n",
       "17         67128  \n",
       "18         65352  \n",
       "19         63750  \n",
       "20         62291  \n",
       "21         62309  \n",
       "22         64941  \n",
       "23         68146  \n",
       "24         71498  \n",
       "25         69778  \n",
       "26         66022  \n",
       "27         66896  \n",
       "28         67497  \n",
       "29         67128  \n",
       "30         65352  \n",
       "31         63750  \n",
       "32         62291  \n",
       "33         62309  \n",
       "34         64941  \n",
       "35         68146  \n",
       "36             0  \n",
       "37             0  \n",
       "38             0  \n",
       "39             0  \n",
       "40             0  \n",
       "41             0  \n",
       "42             0  \n",
       "43             0  \n",
       "44             0  \n",
       "45             0  \n",
       "46             0  \n",
       "47             0  \n",
       "48         14252  \n",
       "49         14508  \n",
       "50         14212  \n",
       "51         14481  \n",
       "52         14867  \n",
       "53         15147  \n",
       "54         14672  \n",
       "55         14302  \n",
       "56         13580  \n",
       "57         13561  \n",
       "58         14105  \n",
       "59         15521  "
      ]
     },
     "execution_count": 25,
     "metadata": {},
     "output_type": "execute_result"
    }
   ],
   "source": [
    "df.head(60)"
   ]
  },
  {
   "cell_type": "markdown",
   "id": "4e25261f",
   "metadata": {},
   "source": [
    "I'll also drop \"Non_freshmen\", since I am really only interested in the freshmen (and I'll keep \"Enrollment\" around so that I can re-calculate the number of non-freshmen)"
   ]
  },
  {
   "cell_type": "code",
   "execution_count": 26,
   "id": "16ee993a",
   "metadata": {},
   "outputs": [],
   "source": [
    "df = df.drop(columns = [\"Non_freshmen\"]).copy()"
   ]
  },
  {
   "cell_type": "code",
   "execution_count": 27,
   "id": "94facb36",
   "metadata": {},
   "outputs": [
    {
     "data": {
      "text/plain": [
       "(186516, 7)"
      ]
     },
     "execution_count": 27,
     "metadata": {},
     "output_type": "execute_result"
    }
   ],
   "source": [
    "df.shape"
   ]
  },
  {
   "cell_type": "markdown",
   "id": "c48df3b2",
   "metadata": {},
   "source": [
    "#### I am also going to look only at the aggregated data on migration background. So I'm keeping only rows that have Migratieachtergrond == Totaal Migratieachtergrond"
   ]
  },
  {
   "cell_type": "code",
   "execution_count": 28,
   "id": "db4b5f42",
   "metadata": {},
   "outputs": [],
   "source": [
    "df = df[df[\"Migratieachtergrond\"]==\"Totaal migratieachtergrond\"].copy()"
   ]
  },
  {
   "cell_type": "code",
   "execution_count": 29,
   "id": "22d55088",
   "metadata": {},
   "outputs": [
    {
     "data": {
      "text/plain": [
       "(16956, 7)"
      ]
     },
     "execution_count": 29,
     "metadata": {},
     "output_type": "execute_result"
    }
   ],
   "source": [
    "df.shape"
   ]
  },
  {
   "cell_type": "markdown",
   "id": "0cf5ee36",
   "metadata": {},
   "source": [
    "Then I can also drop the whole column Migratieachtergrond, since there's only a single value left in it. "
   ]
  },
  {
   "cell_type": "code",
   "execution_count": 30,
   "id": "9d4137eb",
   "metadata": {},
   "outputs": [],
   "source": [
    "df = df.drop(columns = ['Migratieachtergrond']).dopy()"
   ]
  },
  {
   "cell_type": "markdown",
   "id": "2f7d8567",
   "metadata": {},
   "source": [
    "I also figured out that within 'onderwijssoort', 'hoger onderwijs' (higher education) is the total of 'hoger beroepsonderwijs' (professional degrees) and 'wetenschappelijk onderwijs' (university degrees). Since I want to look at these two separately, I will get rid of the 'Hoger Onderwijs' values.\n",
    "\n",
    "The reason I want to look at them separately is that I want to see if the change in the funding model had a big impact on the choices people made - and I would expect this to be more visible in 'wetenschappelijk onderwijs'. Also, I would not be surprised if the ratio between professional and university degrees changed."
   ]
  },
  {
   "cell_type": "code",
   "execution_count": 32,
   "id": "f08446ee",
   "metadata": {},
   "outputs": [],
   "source": [
    "df = df[df[\"Onderwijssoort\"]!=\"Hoger onderwijs\"].copy()"
   ]
  },
  {
   "cell_type": "code",
   "execution_count": 40,
   "id": "1fbfc6aa",
   "metadata": {},
   "outputs": [
    {
     "data": {
      "text/plain": [
       "Totaal mannen en vrouwen    3768\n",
       "Mannen                      3768\n",
       "Vrouwen                     3768\n",
       "Name: Geslacht, dtype: int64"
      ]
     },
     "execution_count": 40,
     "metadata": {},
     "output_type": "execute_result"
    }
   ],
   "source": [
    "df[\"Geslacht\"].value_counts()"
   ]
  },
  {
   "cell_type": "markdown",
   "id": "305491d3",
   "metadata": {},
   "source": [
    "Finally, it would be good to have one dataframe that does not include gender, and one that does. I'll try out different experiments with both of these later. "
   ]
  },
  {
   "cell_type": "code",
   "execution_count": 47,
   "id": "51f7af7b",
   "metadata": {},
   "outputs": [],
   "source": [
    "df_total = df[df[\"Geslacht\"]==\"Totaal mannen en vrouwen\"]"
   ]
  },
  {
   "cell_type": "code",
   "execution_count": 48,
   "id": "53fc7122",
   "metadata": {},
   "outputs": [],
   "source": [
    "df_gendered = df[df[\"Geslacht\"]!=\"Totaal mannen en vrouwen\"]"
   ]
  },
  {
   "cell_type": "code",
   "execution_count": 50,
   "id": "6426cbd0",
   "metadata": {},
   "outputs": [
    {
     "data": {
      "text/plain": [
       "(7536, 6)"
      ]
     },
     "execution_count": 50,
     "metadata": {},
     "output_type": "execute_result"
    }
   ],
   "source": [
    "df_gendered.shape"
   ]
  },
  {
   "cell_type": "code",
   "execution_count": 51,
   "id": "78f3c6aa",
   "metadata": {},
   "outputs": [
    {
     "data": {
      "text/plain": [
       "(3768, 6)"
      ]
     },
     "execution_count": 51,
     "metadata": {},
     "output_type": "execute_result"
    }
   ],
   "source": [
    "df_total.shape"
   ]
  },
  {
   "cell_type": "markdown",
   "id": "46f4db70",
   "metadata": {},
   "source": [
    "I can drop the gender column from the df_total dataframe too."
   ]
  },
  {
   "cell_type": "code",
   "execution_count": 52,
   "id": "c03a87a5",
   "metadata": {},
   "outputs": [],
   "source": [
    "df_total = df_total.drop(columns = [\"Geslacht\"])"
   ]
  },
  {
   "cell_type": "code",
   "execution_count": 53,
   "id": "79884712",
   "metadata": {},
   "outputs": [],
   "source": [
    "df_total.to_csv(\"data_neutral.csv\", sep = \";\")"
   ]
  },
  {
   "cell_type": "code",
   "execution_count": 54,
   "id": "0c7f8759",
   "metadata": {},
   "outputs": [],
   "source": [
    "df_gendered.to_csv(\"data_gendered.csv\", sep = \";\")"
   ]
  },
  {
   "cell_type": "code",
   "execution_count": null,
   "id": "49b3af88",
   "metadata": {},
   "outputs": [],
   "source": []
  }
 ],
 "metadata": {
  "kernelspec": {
   "display_name": "Python 3 (ipykernel)",
   "language": "python",
   "name": "python3"
  },
  "language_info": {
   "codemirror_mode": {
    "name": "ipython",
    "version": 3
   },
   "file_extension": ".py",
   "mimetype": "text/x-python",
   "name": "python",
   "nbconvert_exporter": "python",
   "pygments_lexer": "ipython3",
   "version": "3.10.6"
  }
 },
 "nbformat": 4,
 "nbformat_minor": 5
}
